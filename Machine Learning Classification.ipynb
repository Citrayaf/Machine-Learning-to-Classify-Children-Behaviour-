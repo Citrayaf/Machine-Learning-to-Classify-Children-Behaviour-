{
  "nbformat": 4,
  "nbformat_minor": 0,
  "metadata": {
    "colab": {
      "provenance": []
    },
    "kernelspec": {
      "name": "python3",
      "display_name": "Python 3"
    },
    "language_info": {
      "name": "python"
    }
  },
  "cells": [
    {
      "cell_type": "code",
      "execution_count": null,
      "metadata": {
        "colab": {
          "base_uri": "https://localhost:8080/",
          "height": 483
        },
        "id": "YlxKjPhg_XSu",
        "outputId": "79e286b7-61de-4828-e86a-152f4113a5cd"
      },
      "outputs": [
        {
          "output_type": "execute_result",
          "data": {
            "text/plain": [
              "      Soal1  Soal2  Soal3  Soal4  Soal5  Soal6  Soal7  Soal8  Soal9  Soal10  \\\n",
              "0         2      2      2      2      3      2      3      3      3       3   \n",
              "1         2      2      1      1      2      1      2      3      1       2   \n",
              "2         2      3      2      2      2      1      2      3      1       2   \n",
              "3         2      3      2      2      2      2      3      3      1       1   \n",
              "4         3      2      3      2      3      1      2      3      1       1   \n",
              "...     ...    ...    ...    ...    ...    ...    ...    ...    ...     ...   \n",
              "1754      3      2      2      3      3      2      3      1      3       2   \n",
              "1755      2      2      3      2      2      2      3      2      3       3   \n",
              "1756      2      1      3      2      2      3      2      1      3       1   \n",
              "1757      2      1      2      1      2      1      2      2      2       1   \n",
              "1758      2      2      1      1      2      2      3      2      3       1   \n",
              "\n",
              "      ...  Soal28  Soal29  Soal30  Soal31  Soal32  Soal33  Soal34  Soal35  \\\n",
              "0     ...       3       3       2       2       1       3       3       3   \n",
              "1     ...       3       2       1       3       1       3       1       2   \n",
              "2     ...       3       3       1       2       1       3       3       2   \n",
              "3     ...       2       3       2       1       2       2       2       2   \n",
              "4     ...       3       2       1       1       3       1       1       3   \n",
              "...   ...     ...     ...     ...     ...     ...     ...     ...     ...   \n",
              "1754  ...       1       2       3       2       2       2       3       1   \n",
              "1755  ...       2       3       1       2       1       2       3       3   \n",
              "1756  ...       1       2       1       1       1       1       2       2   \n",
              "1757  ...       2       3       3       3       2       3       2       2   \n",
              "1758  ...       2       3       2       3       3       3       2       3   \n",
              "\n",
              "      Soal36       Hasil  \n",
              "0          2    Auditori  \n",
              "1          3  Kinestetik  \n",
              "2          3  Kinestetik  \n",
              "3          1      Visual  \n",
              "4          3    Auditori  \n",
              "...      ...         ...  \n",
              "1754       1    Auditori  \n",
              "1755       2    Auditori  \n",
              "1756       3    Auditori  \n",
              "1757       2  Kinestetik  \n",
              "1758       2      Visual  \n",
              "\n",
              "[1759 rows x 37 columns]"
            ],
            "text/html": [
              "\n",
              "  <div id=\"df-14693231-3833-453c-9e10-fdb4a855cbc2\">\n",
              "    <div class=\"colab-df-container\">\n",
              "      <div>\n",
              "<style scoped>\n",
              "    .dataframe tbody tr th:only-of-type {\n",
              "        vertical-align: middle;\n",
              "    }\n",
              "\n",
              "    .dataframe tbody tr th {\n",
              "        vertical-align: top;\n",
              "    }\n",
              "\n",
              "    .dataframe thead th {\n",
              "        text-align: right;\n",
              "    }\n",
              "</style>\n",
              "<table border=\"1\" class=\"dataframe\">\n",
              "  <thead>\n",
              "    <tr style=\"text-align: right;\">\n",
              "      <th></th>\n",
              "      <th>Soal1</th>\n",
              "      <th>Soal2</th>\n",
              "      <th>Soal3</th>\n",
              "      <th>Soal4</th>\n",
              "      <th>Soal5</th>\n",
              "      <th>Soal6</th>\n",
              "      <th>Soal7</th>\n",
              "      <th>Soal8</th>\n",
              "      <th>Soal9</th>\n",
              "      <th>Soal10</th>\n",
              "      <th>...</th>\n",
              "      <th>Soal28</th>\n",
              "      <th>Soal29</th>\n",
              "      <th>Soal30</th>\n",
              "      <th>Soal31</th>\n",
              "      <th>Soal32</th>\n",
              "      <th>Soal33</th>\n",
              "      <th>Soal34</th>\n",
              "      <th>Soal35</th>\n",
              "      <th>Soal36</th>\n",
              "      <th>Hasil</th>\n",
              "    </tr>\n",
              "  </thead>\n",
              "  <tbody>\n",
              "    <tr>\n",
              "      <th>0</th>\n",
              "      <td>2</td>\n",
              "      <td>2</td>\n",
              "      <td>2</td>\n",
              "      <td>2</td>\n",
              "      <td>3</td>\n",
              "      <td>2</td>\n",
              "      <td>3</td>\n",
              "      <td>3</td>\n",
              "      <td>3</td>\n",
              "      <td>3</td>\n",
              "      <td>...</td>\n",
              "      <td>3</td>\n",
              "      <td>3</td>\n",
              "      <td>2</td>\n",
              "      <td>2</td>\n",
              "      <td>1</td>\n",
              "      <td>3</td>\n",
              "      <td>3</td>\n",
              "      <td>3</td>\n",
              "      <td>2</td>\n",
              "      <td>Auditori</td>\n",
              "    </tr>\n",
              "    <tr>\n",
              "      <th>1</th>\n",
              "      <td>2</td>\n",
              "      <td>2</td>\n",
              "      <td>1</td>\n",
              "      <td>1</td>\n",
              "      <td>2</td>\n",
              "      <td>1</td>\n",
              "      <td>2</td>\n",
              "      <td>3</td>\n",
              "      <td>1</td>\n",
              "      <td>2</td>\n",
              "      <td>...</td>\n",
              "      <td>3</td>\n",
              "      <td>2</td>\n",
              "      <td>1</td>\n",
              "      <td>3</td>\n",
              "      <td>1</td>\n",
              "      <td>3</td>\n",
              "      <td>1</td>\n",
              "      <td>2</td>\n",
              "      <td>3</td>\n",
              "      <td>Kinestetik</td>\n",
              "    </tr>\n",
              "    <tr>\n",
              "      <th>2</th>\n",
              "      <td>2</td>\n",
              "      <td>3</td>\n",
              "      <td>2</td>\n",
              "      <td>2</td>\n",
              "      <td>2</td>\n",
              "      <td>1</td>\n",
              "      <td>2</td>\n",
              "      <td>3</td>\n",
              "      <td>1</td>\n",
              "      <td>2</td>\n",
              "      <td>...</td>\n",
              "      <td>3</td>\n",
              "      <td>3</td>\n",
              "      <td>1</td>\n",
              "      <td>2</td>\n",
              "      <td>1</td>\n",
              "      <td>3</td>\n",
              "      <td>3</td>\n",
              "      <td>2</td>\n",
              "      <td>3</td>\n",
              "      <td>Kinestetik</td>\n",
              "    </tr>\n",
              "    <tr>\n",
              "      <th>3</th>\n",
              "      <td>2</td>\n",
              "      <td>3</td>\n",
              "      <td>2</td>\n",
              "      <td>2</td>\n",
              "      <td>2</td>\n",
              "      <td>2</td>\n",
              "      <td>3</td>\n",
              "      <td>3</td>\n",
              "      <td>1</td>\n",
              "      <td>1</td>\n",
              "      <td>...</td>\n",
              "      <td>2</td>\n",
              "      <td>3</td>\n",
              "      <td>2</td>\n",
              "      <td>1</td>\n",
              "      <td>2</td>\n",
              "      <td>2</td>\n",
              "      <td>2</td>\n",
              "      <td>2</td>\n",
              "      <td>1</td>\n",
              "      <td>Visual</td>\n",
              "    </tr>\n",
              "    <tr>\n",
              "      <th>4</th>\n",
              "      <td>3</td>\n",
              "      <td>2</td>\n",
              "      <td>3</td>\n",
              "      <td>2</td>\n",
              "      <td>3</td>\n",
              "      <td>1</td>\n",
              "      <td>2</td>\n",
              "      <td>3</td>\n",
              "      <td>1</td>\n",
              "      <td>1</td>\n",
              "      <td>...</td>\n",
              "      <td>3</td>\n",
              "      <td>2</td>\n",
              "      <td>1</td>\n",
              "      <td>1</td>\n",
              "      <td>3</td>\n",
              "      <td>1</td>\n",
              "      <td>1</td>\n",
              "      <td>3</td>\n",
              "      <td>3</td>\n",
              "      <td>Auditori</td>\n",
              "    </tr>\n",
              "    <tr>\n",
              "      <th>...</th>\n",
              "      <td>...</td>\n",
              "      <td>...</td>\n",
              "      <td>...</td>\n",
              "      <td>...</td>\n",
              "      <td>...</td>\n",
              "      <td>...</td>\n",
              "      <td>...</td>\n",
              "      <td>...</td>\n",
              "      <td>...</td>\n",
              "      <td>...</td>\n",
              "      <td>...</td>\n",
              "      <td>...</td>\n",
              "      <td>...</td>\n",
              "      <td>...</td>\n",
              "      <td>...</td>\n",
              "      <td>...</td>\n",
              "      <td>...</td>\n",
              "      <td>...</td>\n",
              "      <td>...</td>\n",
              "      <td>...</td>\n",
              "      <td>...</td>\n",
              "    </tr>\n",
              "    <tr>\n",
              "      <th>1754</th>\n",
              "      <td>3</td>\n",
              "      <td>2</td>\n",
              "      <td>2</td>\n",
              "      <td>3</td>\n",
              "      <td>3</td>\n",
              "      <td>2</td>\n",
              "      <td>3</td>\n",
              "      <td>1</td>\n",
              "      <td>3</td>\n",
              "      <td>2</td>\n",
              "      <td>...</td>\n",
              "      <td>1</td>\n",
              "      <td>2</td>\n",
              "      <td>3</td>\n",
              "      <td>2</td>\n",
              "      <td>2</td>\n",
              "      <td>2</td>\n",
              "      <td>3</td>\n",
              "      <td>1</td>\n",
              "      <td>1</td>\n",
              "      <td>Auditori</td>\n",
              "    </tr>\n",
              "    <tr>\n",
              "      <th>1755</th>\n",
              "      <td>2</td>\n",
              "      <td>2</td>\n",
              "      <td>3</td>\n",
              "      <td>2</td>\n",
              "      <td>2</td>\n",
              "      <td>2</td>\n",
              "      <td>3</td>\n",
              "      <td>2</td>\n",
              "      <td>3</td>\n",
              "      <td>3</td>\n",
              "      <td>...</td>\n",
              "      <td>2</td>\n",
              "      <td>3</td>\n",
              "      <td>1</td>\n",
              "      <td>2</td>\n",
              "      <td>1</td>\n",
              "      <td>2</td>\n",
              "      <td>3</td>\n",
              "      <td>3</td>\n",
              "      <td>2</td>\n",
              "      <td>Auditori</td>\n",
              "    </tr>\n",
              "    <tr>\n",
              "      <th>1756</th>\n",
              "      <td>2</td>\n",
              "      <td>1</td>\n",
              "      <td>3</td>\n",
              "      <td>2</td>\n",
              "      <td>2</td>\n",
              "      <td>3</td>\n",
              "      <td>2</td>\n",
              "      <td>1</td>\n",
              "      <td>3</td>\n",
              "      <td>1</td>\n",
              "      <td>...</td>\n",
              "      <td>1</td>\n",
              "      <td>2</td>\n",
              "      <td>1</td>\n",
              "      <td>1</td>\n",
              "      <td>1</td>\n",
              "      <td>1</td>\n",
              "      <td>2</td>\n",
              "      <td>2</td>\n",
              "      <td>3</td>\n",
              "      <td>Auditori</td>\n",
              "    </tr>\n",
              "    <tr>\n",
              "      <th>1757</th>\n",
              "      <td>2</td>\n",
              "      <td>1</td>\n",
              "      <td>2</td>\n",
              "      <td>1</td>\n",
              "      <td>2</td>\n",
              "      <td>1</td>\n",
              "      <td>2</td>\n",
              "      <td>2</td>\n",
              "      <td>2</td>\n",
              "      <td>1</td>\n",
              "      <td>...</td>\n",
              "      <td>2</td>\n",
              "      <td>3</td>\n",
              "      <td>3</td>\n",
              "      <td>3</td>\n",
              "      <td>2</td>\n",
              "      <td>3</td>\n",
              "      <td>2</td>\n",
              "      <td>2</td>\n",
              "      <td>2</td>\n",
              "      <td>Kinestetik</td>\n",
              "    </tr>\n",
              "    <tr>\n",
              "      <th>1758</th>\n",
              "      <td>2</td>\n",
              "      <td>2</td>\n",
              "      <td>1</td>\n",
              "      <td>1</td>\n",
              "      <td>2</td>\n",
              "      <td>2</td>\n",
              "      <td>3</td>\n",
              "      <td>2</td>\n",
              "      <td>3</td>\n",
              "      <td>1</td>\n",
              "      <td>...</td>\n",
              "      <td>2</td>\n",
              "      <td>3</td>\n",
              "      <td>2</td>\n",
              "      <td>3</td>\n",
              "      <td>3</td>\n",
              "      <td>3</td>\n",
              "      <td>2</td>\n",
              "      <td>3</td>\n",
              "      <td>2</td>\n",
              "      <td>Visual</td>\n",
              "    </tr>\n",
              "  </tbody>\n",
              "</table>\n",
              "<p>1759 rows × 37 columns</p>\n",
              "</div>\n",
              "      <button class=\"colab-df-convert\" onclick=\"convertToInteractive('df-14693231-3833-453c-9e10-fdb4a855cbc2')\"\n",
              "              title=\"Convert this dataframe to an interactive table.\"\n",
              "              style=\"display:none;\">\n",
              "        \n",
              "  <svg xmlns=\"http://www.w3.org/2000/svg\" height=\"24px\"viewBox=\"0 0 24 24\"\n",
              "       width=\"24px\">\n",
              "    <path d=\"M0 0h24v24H0V0z\" fill=\"none\"/>\n",
              "    <path d=\"M18.56 5.44l.94 2.06.94-2.06 2.06-.94-2.06-.94-.94-2.06-.94 2.06-2.06.94zm-11 1L8.5 8.5l.94-2.06 2.06-.94-2.06-.94L8.5 2.5l-.94 2.06-2.06.94zm10 10l.94 2.06.94-2.06 2.06-.94-2.06-.94-.94-2.06-.94 2.06-2.06.94z\"/><path d=\"M17.41 7.96l-1.37-1.37c-.4-.4-.92-.59-1.43-.59-.52 0-1.04.2-1.43.59L10.3 9.45l-7.72 7.72c-.78.78-.78 2.05 0 2.83L4 21.41c.39.39.9.59 1.41.59.51 0 1.02-.2 1.41-.59l7.78-7.78 2.81-2.81c.8-.78.8-2.07 0-2.86zM5.41 20L4 18.59l7.72-7.72 1.47 1.35L5.41 20z\"/>\n",
              "  </svg>\n",
              "      </button>\n",
              "      \n",
              "  <style>\n",
              "    .colab-df-container {\n",
              "      display:flex;\n",
              "      flex-wrap:wrap;\n",
              "      gap: 12px;\n",
              "    }\n",
              "\n",
              "    .colab-df-convert {\n",
              "      background-color: #E8F0FE;\n",
              "      border: none;\n",
              "      border-radius: 50%;\n",
              "      cursor: pointer;\n",
              "      display: none;\n",
              "      fill: #1967D2;\n",
              "      height: 32px;\n",
              "      padding: 0 0 0 0;\n",
              "      width: 32px;\n",
              "    }\n",
              "\n",
              "    .colab-df-convert:hover {\n",
              "      background-color: #E2EBFA;\n",
              "      box-shadow: 0px 1px 2px rgba(60, 64, 67, 0.3), 0px 1px 3px 1px rgba(60, 64, 67, 0.15);\n",
              "      fill: #174EA6;\n",
              "    }\n",
              "\n",
              "    [theme=dark] .colab-df-convert {\n",
              "      background-color: #3B4455;\n",
              "      fill: #D2E3FC;\n",
              "    }\n",
              "\n",
              "    [theme=dark] .colab-df-convert:hover {\n",
              "      background-color: #434B5C;\n",
              "      box-shadow: 0px 1px 3px 1px rgba(0, 0, 0, 0.15);\n",
              "      filter: drop-shadow(0px 1px 2px rgba(0, 0, 0, 0.3));\n",
              "      fill: #FFFFFF;\n",
              "    }\n",
              "  </style>\n",
              "\n",
              "      <script>\n",
              "        const buttonEl =\n",
              "          document.querySelector('#df-14693231-3833-453c-9e10-fdb4a855cbc2 button.colab-df-convert');\n",
              "        buttonEl.style.display =\n",
              "          google.colab.kernel.accessAllowed ? 'block' : 'none';\n",
              "\n",
              "        async function convertToInteractive(key) {\n",
              "          const element = document.querySelector('#df-14693231-3833-453c-9e10-fdb4a855cbc2');\n",
              "          const dataTable =\n",
              "            await google.colab.kernel.invokeFunction('convertToInteractive',\n",
              "                                                     [key], {});\n",
              "          if (!dataTable) return;\n",
              "\n",
              "          const docLinkHtml = 'Like what you see? Visit the ' +\n",
              "            '<a target=\"_blank\" href=https://colab.research.google.com/notebooks/data_table.ipynb>data table notebook</a>'\n",
              "            + ' to learn more about interactive tables.';\n",
              "          element.innerHTML = '';\n",
              "          dataTable['output_type'] = 'display_data';\n",
              "          await google.colab.output.renderOutput(dataTable, element);\n",
              "          const docLink = document.createElement('div');\n",
              "          docLink.innerHTML = docLinkHtml;\n",
              "          element.appendChild(docLink);\n",
              "        }\n",
              "      </script>\n",
              "    </div>\n",
              "  </div>\n",
              "  "
            ]
          },
          "metadata": {},
          "execution_count": 15
        }
      ],
      "source": [
        "import pandas as pd\n",
        "\n",
        "df = pd.read_excel('datauji.xlsx')\n",
        "df"
      ]
    },
    {
      "cell_type": "code",
      "source": [
        "x = df.drop('Hasil', axis=1)\n",
        "y = df['Hasil']"
      ],
      "metadata": {
        "id": "fyy7y5blBswq"
      },
      "execution_count": null,
      "outputs": []
    },
    {
      "cell_type": "code",
      "source": [
        "len(x.index)\n"
      ],
      "metadata": {
        "colab": {
          "base_uri": "https://localhost:8080/"
        },
        "id": "yl4h6TWwBxkc",
        "outputId": "ea7237a4-a6c6-4f6b-9df6-e0f622de0d02"
      },
      "execution_count": null,
      "outputs": [
        {
          "output_type": "execute_result",
          "data": {
            "text/plain": [
              "1759"
            ]
          },
          "metadata": {},
          "execution_count": 12
        }
      ]
    },
    {
      "cell_type": "code",
      "source": [
        "\n",
        "from sklearn.preprocessing import LabelEncoder\n",
        "\n",
        "# Creating a instance of label Encoder.\n",
        "le = LabelEncoder()\n",
        "\n",
        "\n",
        "label = le.fit_transform(y)\n",
        "\n",
        "# printing label\n",
        "label\n"
      ],
      "metadata": {
        "colab": {
          "base_uri": "https://localhost:8080/"
        },
        "id": "ZDEAX7_fJjWg",
        "outputId": "3470941d-679c-4db2-cf73-c74925d6951a"
      },
      "execution_count": null,
      "outputs": [
        {
          "output_type": "execute_result",
          "data": {
            "text/plain": [
              "array([0, 1, 1, ..., 0, 1, 2])"
            ]
          },
          "metadata": {},
          "execution_count": 4
        }
      ]
    },
    {
      "cell_type": "code",
      "source": [
        "len(label)\n"
      ],
      "metadata": {
        "colab": {
          "base_uri": "https://localhost:8080/"
        },
        "id": "STW96Coeaw-L",
        "outputId": "71616572-73a4-40b4-caf3-95469dea4ea6"
      },
      "execution_count": null,
      "outputs": [
        {
          "output_type": "execute_result",
          "data": {
            "text/plain": [
              "1759"
            ]
          },
          "metadata": {},
          "execution_count": 13
        }
      ]
    },
    {
      "cell_type": "code",
      "source": [
        "\n",
        "# df.drop(\"Purchased\", axis=1, inplace=True)\n",
        "\n",
        "\n",
        "y = label\n",
        "\n",
        "# printing Dataframe\n",
        "y\n"
      ],
      "metadata": {
        "colab": {
          "base_uri": "https://localhost:8080/"
        },
        "id": "GuEyZXQIJtE7",
        "outputId": "4d5b1a63-352e-491c-de13-9718f6a8fce2"
      },
      "execution_count": null,
      "outputs": [
        {
          "output_type": "execute_result",
          "data": {
            "text/plain": [
              "array([0, 1, 1, ..., 0, 1, 2])"
            ]
          },
          "metadata": {},
          "execution_count": 14
        }
      ]
    },
    {
      "cell_type": "code",
      "source": [
        "from sklearn.model_selection import train_test_split,cross_val_score,GridSearchCV, RandomizedSearchCV\n",
        "from sklearn.neighbors import KNeighborsClassifier\n",
        "import numpy as np\n",
        "\n",
        "x_train, x_test, y_train, y_test = train_test_split(x, y, test_size=0.25, random_state=3) #3,\n",
        "modell = KNeighborsClassifier()\n",
        "parameter = {'n_neighbors' : np.arange(1,28), 'weights' : ['distance', 'uniform'], 'algorithm':['auto', 'ball_tree', 'kd_tree', 'brute']}\n",
        "gg = GridSearchCV(modell, param_grid=parameter)#2,8\n",
        "gg.fit(x_train,y_train)"
      ],
      "metadata": {
        "colab": {
          "base_uri": "https://localhost:8080/"
        },
        "id": "QNb3VO7sDvvZ",
        "outputId": "cdfa2986-99f1-4bf2-8bc0-8f481cadfde0"
      },
      "execution_count": null,
      "outputs": [
        {
          "output_type": "execute_result",
          "data": {
            "text/plain": [
              "GridSearchCV(estimator=KNeighborsClassifier(),\n",
              "             param_grid={'algorithm': ['auto', 'ball_tree', 'kd_tree', 'brute'],\n",
              "                         'n_neighbors': array([ 1,  2,  3,  4,  5,  6,  7,  8,  9, 10, 11, 12, 13, 14, 15, 16, 17,\n",
              "       18, 19, 20, 21, 22, 23, 24, 25, 26, 27]),\n",
              "                         'weights': ['distance', 'uniform']})"
            ]
          },
          "metadata": {},
          "execution_count": 17
        }
      ]
    },
    {
      "cell_type": "code",
      "source": [
        "gg.best_params_"
      ],
      "metadata": {
        "colab": {
          "base_uri": "https://localhost:8080/"
        },
        "id": "JhtapaR5E11y",
        "outputId": "a070ef6d-6fe5-432d-ac79-f43b8a6c8a4f"
      },
      "execution_count": null,
      "outputs": [
        {
          "output_type": "execute_result",
          "data": {
            "text/plain": [
              "{'algorithm': 'ball_tree', 'n_neighbors': 14, 'weights': 'distance'}"
            ]
          },
          "metadata": {},
          "execution_count": 18
        }
      ]
    },
    {
      "cell_type": "code",
      "source": [
        "gg.best_score_"
      ],
      "metadata": {
        "colab": {
          "base_uri": "https://localhost:8080/"
        },
        "id": "b4Um3aigE6Ji",
        "outputId": "caf8f828-2bdf-475f-e321-ee7ca1e56132"
      },
      "execution_count": null,
      "outputs": [
        {
          "output_type": "execute_result",
          "data": {
            "text/plain": [
              "0.7937579214195183"
            ]
          },
          "metadata": {},
          "execution_count": 19
        }
      ]
    },
    {
      "cell_type": "code",
      "source": [
        "from sklearn.model_selection import train_test_split,cross_val_score,GridSearchCV, RandomizedSearchCV\n",
        "from sklearn.neighbors import KNeighborsClassifier\n",
        "import numpy as np\n",
        "\n",
        "x_train, x_test, y_train, y_test = train_test_split(x, y, test_size=0.25, random_state=15) #3,\n",
        "modell = KNeighborsClassifier()\n",
        "parameter = {'n_neighbors' : np.arange(1,30), 'weights' : ['distance', 'uniform']}\n",
        "gg = GridSearchCV(modell, param_grid=parameter)#2,8\n",
        "gg.fit(x_train,y_train)"
      ],
      "metadata": {
        "colab": {
          "base_uri": "https://localhost:8080/"
        },
        "id": "LjwWJujGCJe1",
        "outputId": "2323de96-7de8-4f68-d9ea-8a4c7d5b61d5"
      },
      "execution_count": null,
      "outputs": [
        {
          "output_type": "execute_result",
          "data": {
            "text/plain": [
              "GridSearchCV(estimator=KNeighborsClassifier(),\n",
              "             param_grid={'n_neighbors': array([ 1,  2,  3,  4,  5,  6,  7,  8,  9, 10, 11, 12, 13, 14, 15, 16, 17,\n",
              "       18, 19, 20, 21, 22, 23, 24, 25, 26, 27, 28, 29]),\n",
              "                         'weights': ['distance', 'uniform']})"
            ]
          },
          "metadata": {},
          "execution_count": 111
        }
      ]
    },
    {
      "cell_type": "code",
      "source": [
        "gg.best_params_"
      ],
      "metadata": {
        "colab": {
          "base_uri": "https://localhost:8080/"
        },
        "id": "rLGTmM_7CMNw",
        "outputId": "3eeb80f5-4d59-4f3b-81b7-8c71a50ae3c2"
      },
      "execution_count": null,
      "outputs": [
        {
          "output_type": "execute_result",
          "data": {
            "text/plain": [
              "{'n_neighbors': 10, 'weights': 'distance'}"
            ]
          },
          "metadata": {},
          "execution_count": 112
        }
      ]
    },
    {
      "cell_type": "code",
      "source": [
        "gg.best_score_"
      ],
      "metadata": {
        "colab": {
          "base_uri": "https://localhost:8080/"
        },
        "id": "oguC96mOCOE5",
        "outputId": "71c0afb3-80fc-421f-e329-ff02e01b34a0"
      },
      "execution_count": null,
      "outputs": [
        {
          "output_type": "execute_result",
          "data": {
            "text/plain": [
              "0.8061904761904761"
            ]
          },
          "metadata": {},
          "execution_count": 113
        }
      ]
    },
    {
      "cell_type": "code",
      "source": [
        "import pandas as pd\n",
        "import numpy as np\n",
        "from sklearn.metrics import accuracy_score,confusion_matrix,classification_report\n",
        "import matplotlib.pyplot as plt\n",
        "from sklearn.model_selection import train_test_split,cross_val_score\n",
        "from sklearn.neighbors import KNeighborsClassifier\n",
        "\n",
        "x_train, x_test, y_train, y_test = train_test_split(x, y, test_size=0.25, random_state=15)\n",
        "model = KNeighborsClassifier(n_neighbors = 11, weights ='distance', algorithm ='ball_tree')\n",
        "model.fit(x_train,y_train)\n",
        "h_cv = cross_val_score(model, x_test, y_test)\n",
        "print(h_cv.mean())\n",
        "y_pred = model.predict(x_test)\n",
        "print(confusion_matrix(y_test,y_pred,labels = [0,1,2]))\n",
        "print(classification_report(y_test,y_pred))"
      ],
      "metadata": {
        "colab": {
          "base_uri": "https://localhost:8080/"
        },
        "id": "NS4k42vgBnEU",
        "outputId": "417a71cb-ad38-41f6-8f68-e17e873802a8"
      },
      "execution_count": null,
      "outputs": [
        {
          "output_type": "stream",
          "name": "stdout",
          "text": [
            "0.7142857142857143\n",
            "[[ 9  3  0]\n",
            " [ 0 13  0]\n",
            " [ 1  0  9]]\n",
            "              precision    recall  f1-score   support\n",
            "\n",
            "           0       0.90      0.75      0.82        12\n",
            "           1       0.81      1.00      0.90        13\n",
            "           2       1.00      0.90      0.95        10\n",
            "\n",
            "    accuracy                           0.89        35\n",
            "   macro avg       0.90      0.88      0.89        35\n",
            "weighted avg       0.90      0.89      0.88        35\n",
            "\n"
          ]
        }
      ]
    },
    {
      "cell_type": "code",
      "source": [
        "import pandas as pd\n",
        "import numpy as np\n",
        "from sklearn.metrics import accuracy_score,confusion_matrix,classification_report\n",
        "import matplotlib.pyplot as plt\n",
        "from sklearn.model_selection import train_test_split,cross_val_score\n",
        "from sklearn.neighbors import KNeighborsClassifier\n",
        "\n",
        "x_train, x_test, y_train, y_test = train_test_split(x, y, test_size=0.25, random_state=15)\n",
        "model = KNeighborsClassifier(n_neighbors = 9, weights ='distance')\n",
        "model.fit(x_train,y_train)\n",
        "h_cv = cross_val_score(model, x_test, y_test)\n",
        "print(h_cv.mean())\n",
        "y_pred = model.predict(x_test)\n",
        "print(confusion_matrix(y_test,y_pred,labels = [0,1,2]))\n",
        "print(classification_report(y_test,y_pred))\n",
        "print(accuracy_score(y_test, y_pred))"
      ],
      "metadata": {
        "colab": {
          "base_uri": "https://localhost:8080/"
        },
        "id": "q883oLAdpAML",
        "outputId": "374ba816-87fe-45b4-db52-06b4ed2320cf"
      },
      "execution_count": null,
      "outputs": [
        {
          "output_type": "stream",
          "name": "stdout",
          "text": [
            "0.5714285714285714\n",
            "[[10  2  0]\n",
            " [ 0 13  0]\n",
            " [ 1  0  9]]\n",
            "              precision    recall  f1-score   support\n",
            "\n",
            "           0       0.91      0.83      0.87        12\n",
            "           1       0.87      1.00      0.93        13\n",
            "           2       1.00      0.90      0.95        10\n",
            "\n",
            "    accuracy                           0.91        35\n",
            "   macro avg       0.93      0.91      0.92        35\n",
            "weighted avg       0.92      0.91      0.91        35\n",
            "\n",
            "0.9142857142857143\n"
          ]
        }
      ]
    },
    {
      "cell_type": "code",
      "source": [
        "import pandas as pd\n",
        "import numpy as np\n",
        "from sklearn.metrics import accuracy_score,confusion_matrix,classification_report\n",
        "import matplotlib.pyplot as plt\n",
        "from sklearn.model_selection import train_test_split,cross_val_score\n",
        "from sklearn.neighbors import KNeighborsClassifier\n",
        "\n",
        "x_train, x_test, y_train, y_test = train_test_split(x, y, test_size=0.25, random_state=3)\n",
        "model = KNeighborsClassifier(n_neighbors = 12, weights ='distance')\n",
        "model.fit(x_train,y_train)\n",
        "h_cv = cross_val_score(model, x_test, y_test)\n",
        "print(h_cv.mean())\n",
        "y_pred = model.predict(x_test)\n",
        "print(confusion_matrix(y_test,y_pred,labels = ['Auditori','Kinestetik','Visual']))\n",
        "print(classification_report(y_test,y_pred))\n",
        "print(accuracy_score(y_test, y_pred))"
      ],
      "metadata": {
        "colab": {
          "base_uri": "https://localhost:8080/"
        },
        "id": "UnW3tZupD6F3",
        "outputId": "c0fc4aeb-422c-4d3a-d324-035086e43b1e"
      },
      "execution_count": null,
      "outputs": [
        {
          "output_type": "stream",
          "name": "stdout",
          "text": [
            "0.7142857142857142\n",
            "[[ 9  3  0]\n",
            " [ 1 12  0]\n",
            " [ 2  0  8]]\n",
            "              precision    recall  f1-score   support\n",
            "\n",
            "    Auditori       0.75      0.75      0.75        12\n",
            "  Kinestetik       0.80      0.92      0.86        13\n",
            "      Visual       1.00      0.80      0.89        10\n",
            "\n",
            "    accuracy                           0.83        35\n",
            "   macro avg       0.85      0.82      0.83        35\n",
            "weighted avg       0.84      0.83      0.83        35\n",
            "\n",
            "0.8285714285714286\n"
          ]
        }
      ]
    },
    {
      "cell_type": "markdown",
      "source": [
        "Kodingan cari banyak hasil"
      ],
      "metadata": {
        "id": "n44IFhXML18p"
      }
    },
    {
      "cell_type": "code",
      "source": [
        "import pandas as pd\n",
        "import numpy as np\n",
        "from sklearn.metrics import accuracy_score,confusion_matrix,classification_report\n",
        "import matplotlib.pyplot as plt\n",
        "from sklearn.model_selection import train_test_split,cross_val_score\n",
        "from sklearn.neighbors import KNeighborsClassifier\n",
        "\n",
        "cv_score_dist = np.zeros(shape=(1, 13))\n",
        "acc_score_dist = np.zeros(shape=(1, 13))\n",
        "start=27\n",
        "end=start+13\n",
        "for j in range(start, end):\n",
        "  print(j)\n",
        "  x_train, x_test, y_train, y_test = train_test_split(x, y, test_size=0.25, random_state=10)\n",
        "  model = KNeighborsClassifier(n_neighbors = j, weights ='distance')\n",
        "  model.fit(x_train,y_train)\n",
        "  h_cv = cross_val_score(model, x, y)\n",
        "  print(h_cv.mean())\n",
        "  cv_score_dist[0,j-start]=h_cv.mean()\n",
        "  y_pred = model.predict(x_test)\n",
        "  print(accuracy_score(y_test, y_pred))\n",
        "  acc_score_dist[0, j-start]=accuracy_score(y_test, y_pred)\n",
        "  print(confusion_matrix(y_test,y_pred,labels = ['Auditori','Kinestetik','Visual']))\n",
        "  # print(confusion_matrix(y_test,y_pred,labels = [0,1,2]))\n",
        "\n",
        "  print(classification_report(y_test,y_pred))"
      ],
      "metadata": {
        "colab": {
          "base_uri": "https://localhost:8080/"
        },
        "id": "s61gh-WlEsPF",
        "outputId": "7952d424-9717-49a7-f253-af2c4398e0f7"
      },
      "execution_count": null,
      "outputs": [
        {
          "output_type": "stream",
          "name": "stdout",
          "text": [
            "27\n",
            "0.7328042328042329\n",
            "0.7714285714285715\n",
            "[[ 8  2  2]\n",
            " [ 1 10  1]\n",
            " [ 0  2  9]]\n",
            "              precision    recall  f1-score   support\n",
            "\n",
            "    Auditori       0.89      0.67      0.76        12\n",
            "  Kinestetik       0.71      0.83      0.77        12\n",
            "      Visual       0.75      0.82      0.78        11\n",
            "\n",
            "    accuracy                           0.77        35\n",
            "   macro avg       0.78      0.77      0.77        35\n",
            "weighted avg       0.79      0.77      0.77        35\n",
            "\n",
            "28\n",
            "0.7396825396825397\n",
            "0.7714285714285715\n",
            "[[9 1 2]\n",
            " [1 9 2]\n",
            " [0 2 9]]\n",
            "              precision    recall  f1-score   support\n",
            "\n",
            "    Auditori       0.90      0.75      0.82        12\n",
            "  Kinestetik       0.75      0.75      0.75        12\n",
            "      Visual       0.69      0.82      0.75        11\n",
            "\n",
            "    accuracy                           0.77        35\n",
            "   macro avg       0.78      0.77      0.77        35\n",
            "weighted avg       0.78      0.77      0.77        35\n",
            "\n",
            "29\n",
            "0.753968253968254\n",
            "0.7142857142857143\n",
            "[[9 2 1]\n",
            " [2 7 3]\n",
            " [0 2 9]]\n",
            "              precision    recall  f1-score   support\n",
            "\n",
            "    Auditori       0.82      0.75      0.78        12\n",
            "  Kinestetik       0.64      0.58      0.61        12\n",
            "      Visual       0.69      0.82      0.75        11\n",
            "\n",
            "    accuracy                           0.71        35\n",
            "   macro avg       0.72      0.72      0.71        35\n",
            "weighted avg       0.72      0.71      0.71        35\n",
            "\n",
            "30\n",
            "0.7687830687830688\n",
            "0.7142857142857143\n",
            "[[9 2 1]\n",
            " [3 7 2]\n",
            " [0 2 9]]\n",
            "              precision    recall  f1-score   support\n",
            "\n",
            "    Auditori       0.75      0.75      0.75        12\n",
            "  Kinestetik       0.64      0.58      0.61        12\n",
            "      Visual       0.75      0.82      0.78        11\n",
            "\n",
            "    accuracy                           0.71        35\n",
            "   macro avg       0.71      0.72      0.71        35\n",
            "weighted avg       0.71      0.71      0.71        35\n",
            "\n",
            "31\n",
            "0.7544973544973544\n",
            "0.7142857142857143\n",
            "[[9 2 1]\n",
            " [3 7 2]\n",
            " [0 2 9]]\n",
            "              precision    recall  f1-score   support\n",
            "\n",
            "    Auditori       0.75      0.75      0.75        12\n",
            "  Kinestetik       0.64      0.58      0.61        12\n",
            "      Visual       0.75      0.82      0.78        11\n",
            "\n",
            "    accuracy                           0.71        35\n",
            "   macro avg       0.71      0.72      0.71        35\n",
            "weighted avg       0.71      0.71      0.71        35\n",
            "\n",
            "32\n",
            "0.7322751322751323\n",
            "0.6857142857142857\n",
            "[[9 2 1]\n",
            " [4 6 2]\n",
            " [0 2 9]]\n",
            "              precision    recall  f1-score   support\n",
            "\n",
            "    Auditori       0.69      0.75      0.72        12\n",
            "  Kinestetik       0.60      0.50      0.55        12\n",
            "      Visual       0.75      0.82      0.78        11\n",
            "\n",
            "    accuracy                           0.69        35\n",
            "   macro avg       0.68      0.69      0.68        35\n",
            "weighted avg       0.68      0.69      0.68        35\n",
            "\n",
            "33\n",
            "0.7468253968253968\n",
            "0.6857142857142857\n",
            "[[9 2 1]\n",
            " [4 6 2]\n",
            " [0 2 9]]\n",
            "              precision    recall  f1-score   support\n",
            "\n",
            "    Auditori       0.69      0.75      0.72        12\n",
            "  Kinestetik       0.60      0.50      0.55        12\n",
            "      Visual       0.75      0.82      0.78        11\n",
            "\n",
            "    accuracy                           0.69        35\n",
            "   macro avg       0.68      0.69      0.68        35\n",
            "weighted avg       0.68      0.69      0.68        35\n",
            "\n",
            "34\n",
            "0.7611111111111111\n",
            "0.7142857142857143\n",
            "[[10  2  0]\n",
            " [ 5  6  1]\n",
            " [ 0  2  9]]\n",
            "              precision    recall  f1-score   support\n",
            "\n",
            "    Auditori       0.67      0.83      0.74        12\n",
            "  Kinestetik       0.60      0.50      0.55        12\n",
            "      Visual       0.90      0.82      0.86        11\n",
            "\n",
            "    accuracy                           0.71        35\n",
            "   macro avg       0.72      0.72      0.71        35\n",
            "weighted avg       0.72      0.71      0.71        35\n",
            "\n",
            "35\n",
            "0.7468253968253968\n",
            "0.6571428571428571\n",
            "[[8 4 0]\n",
            " [4 6 2]\n",
            " [0 2 9]]\n",
            "              precision    recall  f1-score   support\n",
            "\n",
            "    Auditori       0.67      0.67      0.67        12\n",
            "  Kinestetik       0.50      0.50      0.50        12\n",
            "      Visual       0.82      0.82      0.82        11\n",
            "\n",
            "    accuracy                           0.66        35\n",
            "   macro avg       0.66      0.66      0.66        35\n",
            "weighted avg       0.66      0.66      0.66        35\n",
            "\n",
            "36\n",
            "0.7613756613756614\n",
            "0.6285714285714286\n",
            "[[8 4 0]\n",
            " [5 5 2]\n",
            " [0 2 9]]\n",
            "              precision    recall  f1-score   support\n",
            "\n",
            "    Auditori       0.62      0.67      0.64        12\n",
            "  Kinestetik       0.45      0.42      0.43        12\n",
            "      Visual       0.82      0.82      0.82        11\n",
            "\n",
            "    accuracy                           0.63        35\n",
            "   macro avg       0.63      0.63      0.63        35\n",
            "weighted avg       0.62      0.63      0.63        35\n",
            "\n",
            "37\n",
            "0.7330687830687831\n",
            "0.6285714285714286\n",
            "[[8 4 0]\n",
            " [4 5 3]\n",
            " [0 2 9]]\n",
            "              precision    recall  f1-score   support\n",
            "\n",
            "    Auditori       0.67      0.67      0.67        12\n",
            "  Kinestetik       0.45      0.42      0.43        12\n",
            "      Visual       0.75      0.82      0.78        11\n",
            "\n",
            "    accuracy                           0.63        35\n",
            "   macro avg       0.62      0.63      0.63        35\n",
            "weighted avg       0.62      0.63      0.62        35\n",
            "\n",
            "38\n",
            "0.73994708994709\n",
            "0.6\n",
            "[[8 4 0]\n",
            " [5 4 3]\n",
            " [0 2 9]]\n",
            "              precision    recall  f1-score   support\n",
            "\n",
            "    Auditori       0.62      0.67      0.64        12\n",
            "  Kinestetik       0.40      0.33      0.36        12\n",
            "      Visual       0.75      0.82      0.78        11\n",
            "\n",
            "    accuracy                           0.60        35\n",
            "   macro avg       0.59      0.61      0.60        35\n",
            "weighted avg       0.58      0.60      0.59        35\n",
            "\n",
            "39\n",
            "0.7616402116402117\n",
            "0.6285714285714286\n",
            "[[8 3 1]\n",
            " [4 5 3]\n",
            " [0 2 9]]\n",
            "              precision    recall  f1-score   support\n",
            "\n",
            "    Auditori       0.67      0.67      0.67        12\n",
            "  Kinestetik       0.50      0.42      0.45        12\n",
            "      Visual       0.69      0.82      0.75        11\n",
            "\n",
            "    accuracy                           0.63        35\n",
            "   macro avg       0.62      0.63      0.62        35\n",
            "weighted avg       0.62      0.63      0.62        35\n",
            "\n"
          ]
        }
      ]
    },
    {
      "cell_type": "code",
      "source": [
        "import pandas as pd\n",
        "import numpy as np\n",
        "from sklearn.metrics import accuracy_score,confusion_matrix,classification_report\n",
        "import matplotlib.pyplot as plt\n",
        "from sklearn.model_selection import train_test_split,cross_val_score\n",
        "from sklearn.neighbors import KNeighborsClassifier\n",
        "\n",
        "cv_score_uni = np.zeros(shape=(1, 13))\n",
        "acc_score_uni = np.zeros(shape=(1, 13))\n",
        "start=3\n",
        "end=start+13\n",
        "for j in range(start, end):\n",
        "  print(j)\n",
        "  x_train, x_test, y_train, y_test = train_test_split(x, y, test_size=0.25, random_state=15)\n",
        "  model = KNeighborsClassifier(n_neighbors = j, weights ='uniform')\n",
        "  model.fit(x_train,y_train)\n",
        "  h_cv = cross_val_score(model, x, y)\n",
        "  print(h_cv.mean())\n",
        "  cv_score_uni[0,j-start]=h_cv.mean()\n",
        "  y_pred = model.predict(x_test)\n",
        "  print(accuracy_score(y_test, y_pred))\n",
        "  acc_score_uni[0, j-start]=accuracy_score(y_test, y_pred)\n",
        "  print(confusion_matrix(y_test,y_pred,labels = ['Auditori','Kinestetik','Visual']))\n",
        "  # print(confusion_matrix(y_test,y_pred,labels = [0,1,2]))\n",
        "\n",
        "  print(classification_report(y_test,y_pred))"
      ],
      "metadata": {
        "colab": {
          "base_uri": "https://localhost:8080/"
        },
        "id": "W3O7qZQ5VV7D",
        "outputId": "42beb79f-3958-4532-b648-40171900ea79"
      },
      "execution_count": null,
      "outputs": [
        {
          "output_type": "stream",
          "name": "stdout",
          "text": [
            "3\n",
            "0.62989417989418\n",
            "0.6\n",
            "[[6 5 1]\n",
            " [3 8 2]\n",
            " [1 2 7]]\n",
            "              precision    recall  f1-score   support\n",
            "\n",
            "    Auditori       0.60      0.50      0.55        12\n",
            "  Kinestetik       0.53      0.62      0.57        13\n",
            "      Visual       0.70      0.70      0.70        10\n",
            "\n",
            "    accuracy                           0.60        35\n",
            "   macro avg       0.61      0.61      0.61        35\n",
            "weighted avg       0.60      0.60      0.60        35\n",
            "\n",
            "4\n",
            "0.6523809523809524\n",
            "0.7714285714285715\n",
            "[[10  1  1]\n",
            " [ 0 10  3]\n",
            " [ 2  1  7]]\n",
            "              precision    recall  f1-score   support\n",
            "\n",
            "    Auditori       0.83      0.83      0.83        12\n",
            "  Kinestetik       0.83      0.77      0.80        13\n",
            "      Visual       0.64      0.70      0.67        10\n",
            "\n",
            "    accuracy                           0.77        35\n",
            "   macro avg       0.77      0.77      0.77        35\n",
            "weighted avg       0.78      0.77      0.77        35\n",
            "\n",
            "5\n",
            "0.6952380952380952\n",
            "0.7428571428571429\n",
            "[[10  2  0]\n",
            " [ 0 11  2]\n",
            " [ 2  3  5]]\n",
            "              precision    recall  f1-score   support\n",
            "\n",
            "    Auditori       0.83      0.83      0.83        12\n",
            "  Kinestetik       0.69      0.85      0.76        13\n",
            "      Visual       0.71      0.50      0.59        10\n",
            "\n",
            "    accuracy                           0.74        35\n",
            "   macro avg       0.75      0.73      0.73        35\n",
            "weighted avg       0.75      0.74      0.74        35\n",
            "\n",
            "6\n",
            "0.6751322751322751\n",
            "0.8\n",
            "[[11  1  0]\n",
            " [ 1 10  2]\n",
            " [ 1  2  7]]\n",
            "              precision    recall  f1-score   support\n",
            "\n",
            "    Auditori       0.85      0.92      0.88        12\n",
            "  Kinestetik       0.77      0.77      0.77        13\n",
            "      Visual       0.78      0.70      0.74        10\n",
            "\n",
            "    accuracy                           0.80        35\n",
            "   macro avg       0.80      0.80      0.80        35\n",
            "weighted avg       0.80      0.80      0.80        35\n",
            "\n",
            "7\n",
            "0.696031746031746\n",
            "0.8285714285714286\n",
            "[[10  2  0]\n",
            " [ 1 11  1]\n",
            " [ 0  2  8]]\n",
            "              precision    recall  f1-score   support\n",
            "\n",
            "    Auditori       0.91      0.83      0.87        12\n",
            "  Kinestetik       0.73      0.85      0.79        13\n",
            "      Visual       0.89      0.80      0.84        10\n",
            "\n",
            "    accuracy                           0.83        35\n",
            "   macro avg       0.84      0.83      0.83        35\n",
            "weighted avg       0.84      0.83      0.83        35\n",
            "\n",
            "8\n",
            "0.6880952380952381\n",
            "0.8285714285714286\n",
            "[[11  1  0]\n",
            " [ 2 11  0]\n",
            " [ 1  2  7]]\n",
            "              precision    recall  f1-score   support\n",
            "\n",
            "    Auditori       0.79      0.92      0.85        12\n",
            "  Kinestetik       0.79      0.85      0.81        13\n",
            "      Visual       1.00      0.70      0.82        10\n",
            "\n",
            "    accuracy                           0.83        35\n",
            "   macro avg       0.86      0.82      0.83        35\n",
            "weighted avg       0.85      0.83      0.83        35\n",
            "\n",
            "9\n",
            "0.7468253968253968\n",
            "0.8571428571428571\n",
            "[[10  2  0]\n",
            " [ 1 12  0]\n",
            " [ 1  1  8]]\n",
            "              precision    recall  f1-score   support\n",
            "\n",
            "    Auditori       0.83      0.83      0.83        12\n",
            "  Kinestetik       0.80      0.92      0.86        13\n",
            "      Visual       1.00      0.80      0.89        10\n",
            "\n",
            "    accuracy                           0.86        35\n",
            "   macro avg       0.88      0.85      0.86        35\n",
            "weighted avg       0.87      0.86      0.86        35\n",
            "\n",
            "10\n",
            "0.7537037037037037\n",
            "0.7714285714285715\n",
            "[[10  2  0]\n",
            " [ 2 10  1]\n",
            " [ 2  1  7]]\n",
            "              precision    recall  f1-score   support\n",
            "\n",
            "    Auditori       0.71      0.83      0.77        12\n",
            "  Kinestetik       0.77      0.77      0.77        13\n",
            "      Visual       0.88      0.70      0.78        10\n",
            "\n",
            "    accuracy                           0.77        35\n",
            "   macro avg       0.79      0.77      0.77        35\n",
            "weighted avg       0.78      0.77      0.77        35\n",
            "\n",
            "11\n",
            "0.7608465608465608\n",
            "0.8\n",
            "[[10  2  0]\n",
            " [ 1 11  1]\n",
            " [ 2  1  7]]\n",
            "              precision    recall  f1-score   support\n",
            "\n",
            "    Auditori       0.77      0.83      0.80        12\n",
            "  Kinestetik       0.79      0.85      0.81        13\n",
            "      Visual       0.88      0.70      0.78        10\n",
            "\n",
            "    accuracy                           0.80        35\n",
            "   macro avg       0.81      0.79      0.80        35\n",
            "weighted avg       0.81      0.80      0.80        35\n",
            "\n",
            "12\n",
            "0.7462962962962962\n",
            "0.8\n",
            "[[ 9  3  0]\n",
            " [ 1 12  0]\n",
            " [ 2  1  7]]\n",
            "              precision    recall  f1-score   support\n",
            "\n",
            "    Auditori       0.75      0.75      0.75        12\n",
            "  Kinestetik       0.75      0.92      0.83        13\n",
            "      Visual       1.00      0.70      0.82        10\n",
            "\n",
            "    accuracy                           0.80        35\n",
            "   macro avg       0.83      0.79      0.80        35\n",
            "weighted avg       0.82      0.80      0.80        35\n",
            "\n",
            "13\n",
            "0.7534391534391534\n",
            "0.7428571428571429\n",
            "[[ 8  4  0]\n",
            " [ 1 11  1]\n",
            " [ 2  1  7]]\n",
            "              precision    recall  f1-score   support\n",
            "\n",
            "    Auditori       0.73      0.67      0.70        12\n",
            "  Kinestetik       0.69      0.85      0.76        13\n",
            "      Visual       0.88      0.70      0.78        10\n",
            "\n",
            "    accuracy                           0.74        35\n",
            "   macro avg       0.76      0.74      0.74        35\n",
            "weighted avg       0.75      0.74      0.74        35\n",
            "\n",
            "14\n",
            "0.7611111111111111\n",
            "0.8\n",
            "[[ 9  3  0]\n",
            " [ 1 12  0]\n",
            " [ 1  2  7]]\n",
            "              precision    recall  f1-score   support\n",
            "\n",
            "    Auditori       0.82      0.75      0.78        12\n",
            "  Kinestetik       0.71      0.92      0.80        13\n",
            "      Visual       1.00      0.70      0.82        10\n",
            "\n",
            "    accuracy                           0.80        35\n",
            "   macro avg       0.84      0.79      0.80        35\n",
            "weighted avg       0.83      0.80      0.80        35\n",
            "\n",
            "15\n",
            "0.7465608465608465\n",
            "0.8\n",
            "[[ 8  3  1]\n",
            " [ 1 12  0]\n",
            " [ 1  1  8]]\n",
            "              precision    recall  f1-score   support\n",
            "\n",
            "    Auditori       0.80      0.67      0.73        12\n",
            "  Kinestetik       0.75      0.92      0.83        13\n",
            "      Visual       0.89      0.80      0.84        10\n",
            "\n",
            "    accuracy                           0.80        35\n",
            "   macro avg       0.81      0.80      0.80        35\n",
            "weighted avg       0.81      0.80      0.80        35\n",
            "\n"
          ]
        }
      ]
    },
    {
      "cell_type": "code",
      "source": [
        "print(cv_score_uni)\n",
        "print(acc_score_uni)"
      ],
      "metadata": {
        "colab": {
          "base_uri": "https://localhost:8080/"
        },
        "id": "gpYagZSwseeR",
        "outputId": "09b20863-6882-4e4a-be26-79bdbf0943ee"
      },
      "execution_count": null,
      "outputs": [
        {
          "output_type": "stream",
          "name": "stdout",
          "text": [
            "[[0.78745402 0.79595745 0.78830869 0.79425532 0.79679409 0.80360981\n",
            "  0.80190408 0.81125496 0.81124775 0.81635774 0.81635774 0.82061666\n",
            "  0.81295709]]\n",
            "[[0.78571429 0.77891156 0.78231293 0.77891156 0.77891156 0.78911565\n",
            "  0.81292517 0.82653061 0.81972789 0.81632653 0.81972789 0.80612245\n",
            "  0.80272109]]\n"
          ]
        }
      ]
    },
    {
      "cell_type": "code",
      "source": [
        "print(cv_score_dist[0])\n",
        "print(acc_score_dist)"
      ],
      "metadata": {
        "colab": {
          "base_uri": "https://localhost:8080/"
        },
        "id": "MfL3niicno0j",
        "outputId": "9d917450-224e-4c14-fa14-ade7e2219c5e"
      },
      "execution_count": null,
      "outputs": [
        {
          "output_type": "stream",
          "name": "stdout",
          "text": [
            "[0.71772487 0.71772487 0.73941799 0.76825397 0.7462963  0.75343915\n",
            " 0.76031746 0.76058201 0.7462963  0.66640212 0.68756614 0.68121693\n",
            " 0.71111111]\n",
            "[[0.85714286 0.82857143 0.91428571 0.85714286 0.85714286 0.82857143\n",
            "  0.77142857 0.85714286 0.82857143 0.62857143 0.71428571 0.68571429\n",
            "  0.82857143]]\n"
          ]
        }
      ]
    },
    {
      "cell_type": "code",
      "source": [
        "import pandas as pd\n",
        "import numpy as np\n",
        "from sklearn.metrics import accuracy_score,confusion_matrix,classification_report\n",
        "import matplotlib.pyplot as plt\n",
        "from sklearn.model_selection import train_test_split,cross_val_score\n",
        "from sklearn.neighbors import KNeighborsClassifier\n",
        "\n",
        "x_train, x_test, y_train, y_test = train_test_split(x, y, test_size=0.2, random_state=15)\n",
        "model_KNN = KNeighborsClassifier(n_neighbors = 25, weights ='distance')\n",
        "model_KNN.fit(x_train,y_train)\n",
        "h_cv = cross_val_score(model_KNN, x, y)\n",
        "print(h_cv.mean())\n",
        "y_pred = model_KNN.predict(x_test)\n",
        "print(accuracy_score(y_test, y_pred))\n",
        "# print(confusion_matrix(y_test,y_pred,labels = [0,1,2]))\n",
        "print(confusion_matrix(y_test,y_pred,labels = ['Auditori','Kinestetik','Visual']))\n",
        "\n",
        "print(classification_report(y_test,y_pred))\n",
        "\n",
        "import pickle\n",
        "pickle.dump(model_KNN, open('model.pkl','wb'))"
      ],
      "metadata": {
        "id": "PDxuGFnSqbmT",
        "colab": {
          "base_uri": "https://localhost:8080/"
        },
        "outputId": "f68a5b2f-9182-46a5-b364-2b9a8ace454e"
      },
      "execution_count": null,
      "outputs": [
        {
          "output_type": "stream",
          "name": "stdout",
          "text": [
            "0.7919418544418545\n",
            "0.8125\n",
            "[[176   6   5]\n",
            " [ 15  62   3]\n",
            " [ 32   5  48]]\n",
            "              precision    recall  f1-score   support\n",
            "\n",
            "    Auditori       0.79      0.94      0.86       187\n",
            "  Kinestetik       0.85      0.78      0.81        80\n",
            "      Visual       0.86      0.56      0.68        85\n",
            "\n",
            "    accuracy                           0.81       352\n",
            "   macro avg       0.83      0.76      0.78       352\n",
            "weighted avg       0.82      0.81      0.80       352\n",
            "\n"
          ]
        }
      ]
    },
    {
      "cell_type": "markdown",
      "source": [
        "Test With all Dataset"
      ],
      "metadata": {
        "id": "BMJIfEAFMhFf"
      }
    },
    {
      "cell_type": "code",
      "source": [
        "import pandas as pd\n",
        "\n",
        "df2 = pd.read_excel('datauji.xlsx')\n",
        "df2\n",
        "i = df2.drop('Hasil', axis=1)\n",
        "j = df2['Hasil']\n",
        "le = LabelEncoder()\n",
        "label2 = le.fit_transform(j)\n",
        "# j = label2\n",
        "\n",
        "j_pred = model_KNN.predict(i)\n",
        "print(accuracy_score(j, j_pred))\n",
        "\n",
        "cm = confusion_matrix(j, j_pred)\n",
        "plot_confusion_matrix(cm)"
      ],
      "metadata": {
        "colab": {
          "base_uri": "https://localhost:8080/",
          "height": 485
        },
        "id": "qe9SBVpDMjrl",
        "outputId": "8f6fe100-3135-4e34-bba6-c50bcdbf22f0"
      },
      "execution_count": null,
      "outputs": [
        {
          "output_type": "stream",
          "name": "stdout",
          "text": [
            "0.7464468447981808\n"
          ]
        },
        {
          "output_type": "display_data",
          "data": {
            "text/plain": [
              "<Figure size 576x432 with 2 Axes>"
            ],
            "image/png": "[encoded data removed]"
          },
          "metadata": {
            "needs_background": "light"
          }
        }
      ]
    },
    {
      "cell_type": "code",
      "source": [
        "accuracy_score(y_test, y_pred)"
      ],
      "metadata": {
        "colab": {
          "base_uri": "https://localhost:8080/"
        },
        "id": "pn1oceBxrHk2",
        "outputId": "61cc57d7-9880-43ec-b05f-8e11b070c2ec"
      },
      "execution_count": null,
      "outputs": [
        {
          "output_type": "execute_result",
          "data": {
            "text/plain": [
              "0.8857142857142857"
            ]
          },
          "metadata": {},
          "execution_count": 285
        }
      ]
    },
    {
      "cell_type": "code",
      "source": [
        "hasil = pd.DataFrame({'Accuracy Uniform': acc_score_uni[0], 'Average of cross validation score Uniform': cv_score_uni[0]})\n"
      ],
      "metadata": {
        "id": "ivdvfj4p2Gpq"
      },
      "execution_count": null,
      "outputs": []
    },
    {
      "cell_type": "code",
      "source": [
        "hasil"
      ],
      "metadata": {
        "colab": {
          "base_uri": "https://localhost:8080/",
          "height": 452
        },
        "id": "xbJAaCyp3Ei6",
        "outputId": "e8b1ca7e-9fb1-4f63-ad0d-43731eb5b891"
      },
      "execution_count": null,
      "outputs": [
        {
          "output_type": "execute_result",
          "data": {
            "text/plain": [
              "    Accuracy Uniform  Average of cross validation score Uniform\n",
              "0           0.828571                                   0.696032\n",
              "1           0.828571                                   0.688095\n",
              "2           0.857143                                   0.746825\n",
              "3           0.771429                                   0.753704\n",
              "4           0.800000                                   0.760847\n",
              "5           0.800000                                   0.746296\n",
              "6           0.742857                                   0.753439\n",
              "7           0.800000                                   0.761111\n",
              "8           0.800000                                   0.746561\n",
              "9           0.600000                                   0.629894\n",
              "10          0.771429                                   0.652381\n",
              "11          0.742857                                   0.695238\n",
              "12          0.800000                                   0.675132"
            ],
            "text/html": [
              "\n",
              "  <div id=\"df-c35173da-d3c4-407f-986e-b61645fdf05c\">\n",
              "    <div class=\"colab-df-container\">\n",
              "      <div>\n",
              "<style scoped>\n",
              "    .dataframe tbody tr th:only-of-type {\n",
              "        vertical-align: middle;\n",
              "    }\n",
              "\n",
              "    .dataframe tbody tr th {\n",
              "        vertical-align: top;\n",
              "    }\n",
              "\n",
              "    .dataframe thead th {\n",
              "        text-align: right;\n",
              "    }\n",
              "</style>\n",
              "<table border=\"1\" class=\"dataframe\">\n",
              "  <thead>\n",
              "    <tr style=\"text-align: right;\">\n",
              "      <th></th>\n",
              "      <th>Accuracy Uniform</th>\n",
              "      <th>Average of cross validation score Uniform</th>\n",
              "    </tr>\n",
              "  </thead>\n",
              "  <tbody>\n",
              "    <tr>\n",
              "      <th>0</th>\n",
              "      <td>0.828571</td>\n",
              "      <td>0.696032</td>\n",
              "    </tr>\n",
              "    <tr>\n",
              "      <th>1</th>\n",
              "      <td>0.828571</td>\n",
              "      <td>0.688095</td>\n",
              "    </tr>\n",
              "    <tr>\n",
              "      <th>2</th>\n",
              "      <td>0.857143</td>\n",
              "      <td>0.746825</td>\n",
              "    </tr>\n",
              "    <tr>\n",
              "      <th>3</th>\n",
              "      <td>0.771429</td>\n",
              "      <td>0.753704</td>\n",
              "    </tr>\n",
              "    <tr>\n",
              "      <th>4</th>\n",
              "      <td>0.800000</td>\n",
              "      <td>0.760847</td>\n",
              "    </tr>\n",
              "    <tr>\n",
              "      <th>5</th>\n",
              "      <td>0.800000</td>\n",
              "      <td>0.746296</td>\n",
              "    </tr>\n",
              "    <tr>\n",
              "      <th>6</th>\n",
              "      <td>0.742857</td>\n",
              "      <td>0.753439</td>\n",
              "    </tr>\n",
              "    <tr>\n",
              "      <th>7</th>\n",
              "      <td>0.800000</td>\n",
              "      <td>0.761111</td>\n",
              "    </tr>\n",
              "    <tr>\n",
              "      <th>8</th>\n",
              "      <td>0.800000</td>\n",
              "      <td>0.746561</td>\n",
              "    </tr>\n",
              "    <tr>\n",
              "      <th>9</th>\n",
              "      <td>0.600000</td>\n",
              "      <td>0.629894</td>\n",
              "    </tr>\n",
              "    <tr>\n",
              "      <th>10</th>\n",
              "      <td>0.771429</td>\n",
              "      <td>0.652381</td>\n",
              "    </tr>\n",
              "    <tr>\n",
              "      <th>11</th>\n",
              "      <td>0.742857</td>\n",
              "      <td>0.695238</td>\n",
              "    </tr>\n",
              "    <tr>\n",
              "      <th>12</th>\n",
              "      <td>0.800000</td>\n",
              "      <td>0.675132</td>\n",
              "    </tr>\n",
              "  </tbody>\n",
              "</table>\n",
              "</div>\n",
              "      <button class=\"colab-df-convert\" onclick=\"convertToInteractive('df-c35173da-d3c4-407f-986e-b61645fdf05c')\"\n",
              "              title=\"Convert this dataframe to an interactive table.\"\n",
              "              style=\"display:none;\">\n",
              "        \n",
              "  <svg xmlns=\"http://www.w3.org/2000/svg\" height=\"24px\"viewBox=\"0 0 24 24\"\n",
              "       width=\"24px\">\n",
              "    <path d=\"M0 0h24v24H0V0z\" fill=\"none\"/>\n",
              "    <path d=\"M18.56 5.44l.94 2.06.94-2.06 2.06-.94-2.06-.94-.94-2.06-.94 2.06-2.06.94zm-11 1L8.5 8.5l.94-2.06 2.06-.94-2.06-.94L8.5 2.5l-.94 2.06-2.06.94zm10 10l.94 2.06.94-2.06 2.06-.94-2.06-.94-.94-2.06-.94 2.06-2.06.94z\"/><path d=\"M17.41 7.96l-1.37-1.37c-.4-.4-.92-.59-1.43-.59-.52 0-1.04.2-1.43.59L10.3 9.45l-7.72 7.72c-.78.78-.78 2.05 0 2.83L4 21.41c.39.39.9.59 1.41.59.51 0 1.02-.2 1.41-.59l7.78-7.78 2.81-2.81c.8-.78.8-2.07 0-2.86zM5.41 20L4 18.59l7.72-7.72 1.47 1.35L5.41 20z\"/>\n",
              "  </svg>\n",
              "      </button>\n",
              "      \n",
              "  <style>\n",
              "    .colab-df-container {\n",
              "      display:flex;\n",
              "      flex-wrap:wrap;\n",
              "      gap: 12px;\n",
              "    }\n",
              "\n",
              "    .colab-df-convert {\n",
              "      background-color: #E8F0FE;\n",
              "      border: none;\n",
              "      border-radius: 50%;\n",
              "      cursor: pointer;\n",
              "      display: none;\n",
              "      fill: #1967D2;\n",
              "      height: 32px;\n",
              "      padding: 0 0 0 0;\n",
              "      width: 32px;\n",
              "    }\n",
              "\n",
              "    .colab-df-convert:hover {\n",
              "      background-color: #E2EBFA;\n",
              "      box-shadow: 0px 1px 2px rgba(60, 64, 67, 0.3), 0px 1px 3px 1px rgba(60, 64, 67, 0.15);\n",
              "      fill: #174EA6;\n",
              "    }\n",
              "\n",
              "    [theme=dark] .colab-df-convert {\n",
              "      background-color: #3B4455;\n",
              "      fill: #D2E3FC;\n",
              "    }\n",
              "\n",
              "    [theme=dark] .colab-df-convert:hover {\n",
              "      background-color: #434B5C;\n",
              "      box-shadow: 0px 1px 3px 1px rgba(0, 0, 0, 0.15);\n",
              "      filter: drop-shadow(0px 1px 2px rgba(0, 0, 0, 0.3));\n",
              "      fill: #FFFFFF;\n",
              "    }\n",
              "  </style>\n",
              "\n",
              "      <script>\n",
              "        const buttonEl =\n",
              "          document.querySelector('#df-c35173da-d3c4-407f-986e-b61645fdf05c button.colab-df-convert');\n",
              "        buttonEl.style.display =\n",
              "          google.colab.kernel.accessAllowed ? 'block' : 'none';\n",
              "\n",
              "        async function convertToInteractive(key) {\n",
              "          const element = document.querySelector('#df-c35173da-d3c4-407f-986e-b61645fdf05c');\n",
              "          const dataTable =\n",
              "            await google.colab.kernel.invokeFunction('convertToInteractive',\n",
              "                                                     [key], {});\n",
              "          if (!dataTable) return;\n",
              "\n",
              "          const docLinkHtml = 'Like what you see? Visit the ' +\n",
              "            '<a target=\"_blank\" href=https://colab.research.google.com/notebooks/data_table.ipynb>data table notebook</a>'\n",
              "            + ' to learn more about interactive tables.';\n",
              "          element.innerHTML = '';\n",
              "          dataTable['output_type'] = 'display_data';\n",
              "          await google.colab.output.renderOutput(dataTable, element);\n",
              "          const docLink = document.createElement('div');\n",
              "          docLink.innerHTML = docLinkHtml;\n",
              "          element.appendChild(docLink);\n",
              "        }\n",
              "      </script>\n",
              "    </div>\n",
              "  </div>\n",
              "  "
            ]
          },
          "metadata": {},
          "execution_count": 28
        }
      ]
    },
    {
      "cell_type": "code",
      "source": [
        "import pandas as pd\n",
        "\n",
        "hasil = pd.DataFrame({'Accuracy Uniform': acc_score_uni[0], 'Average of cross validation score Uniform': cv_score_uni[0],'Accuracy Distance': acc_score_dist[0], 'Average of cross validation score Distance': cv_score_dist[0]})\n",
        "\n",
        "## save to xlsx file\n",
        "\n",
        "filepath = 'my_excel_file.xlsx'\n",
        "\n",
        "hasil.to_excel(filepath, index=False)"
      ],
      "metadata": {
        "id": "w7k3V6BI1XbD"
      },
      "execution_count": null,
      "outputs": []
    },
    {
      "cell_type": "code",
      "source": [
        "import numpy as np\n",
        "\n",
        "\n",
        "def plot_confusion_matrix(cm,\n",
        "                          target_names=['Auditori','Kinestetik','Visual'],\n",
        "                          title='Confusion matrix',\n",
        "                          cmap=None,\n",
        "                          normalize=True):\n",
        "    \"\"\"\n",
        "    given a sklearn confusion matrix (cm), make a nice plot\n",
        "\n",
        "    Arguments\n",
        "    ---------\n",
        "    cm:           confusion matrix from sklearn.metrics.confusion_matrix\n",
        "\n",
        "    target_names: given classification classes such as [0, 1, 2]\n",
        "                  the class names, for example: ['high', 'medium', 'low']\n",
        "\n",
        "    title:        the text to display at the top of the matrix\n",
        "\n",
        "    cmap:         the gradient of the values displayed from matplotlib.pyplot.cm\n",
        "                  see http://matplotlib.org/examples/color/colormaps_reference.html\n",
        "                  plt.get_cmap('jet') or plt.cm.Blues\n",
        "\n",
        "    normalize:    If False, plot the raw numbers\n",
        "                  If True, plot the proportions\n",
        "\n",
        "    Usage\n",
        "    -----\n",
        "    plot_confusion_matrix(cm           = cm,                  # confusion matrix created by\n",
        "                                                              # sklearn.metrics.confusion_matrix\n",
        "                          normalize    = True,                # show proportions\n",
        "                          target_names = y_labels_vals,       # list of names of the classes\n",
        "                          title        = best_estimator_name) # title of graph\n",
        "\n",
        "    Citiation\n",
        "    ---------\n",
        "    http://scikit-learn.org/stable/auto_examples/model_selection/plot_confusion_matrix.html\n",
        "\n",
        "    \"\"\"\n",
        "    import matplotlib.pyplot as plt\n",
        "    import numpy as np\n",
        "    import itertools\n",
        "\n",
        "    accuracy = np.trace(cm) / float(np.sum(cm))\n",
        "    misclass = 1 - accuracy\n",
        "\n",
        "    if cmap is None:\n",
        "        cmap = plt.get_cmap('Blues')\n",
        "\n",
        "    plt.figure(figsize=(8, 6))\n",
        "    if normalize:\n",
        "      plt.imshow(cm/7, interpolation='nearest', cmap=cmap)\n",
        "    else:\n",
        "      plt.imshow(cm, interpolation='nearest', cmap=cmap)\n",
        "    plt.title(title)\n",
        "    plt.colorbar()\n",
        "\n",
        "    if target_names is not None:\n",
        "        tick_marks = np.arange(len(target_names))\n",
        "        plt.xticks(tick_marks, target_names, rotation=45)\n",
        "        plt.yticks(tick_marks, target_names)\n",
        "\n",
        "    if normalize:\n",
        "        cm = cm.astype('float') / cm.sum(axis=1)[:, np.newaxis]\n",
        "\n",
        "\n",
        "    thresh = cm.max() / 1.5 if normalize else cm.max() / 2\n",
        "    for i, j in itertools.product(range(cm.shape[0]), range(cm.shape[1])):\n",
        "        if normalize:\n",
        "            plt.text(j, i, \"{:0.3f}\".format(cm[i, j]),\n",
        "                     horizontalalignment=\"center\",\n",
        "                     color=\"white\" if cm[i, j] > thresh else \"black\")\n",
        "        else:\n",
        "            plt.text(j, i, \"{:,}\".format(cm[i, j]),\n",
        "                     horizontalalignment=\"center\",\n",
        "                     color=\"white\" if cm[i, j] > thresh else \"black\")\n",
        "\n",
        "\n",
        "    plt.tight_layout()\n",
        "    plt.ylabel('True label')\n",
        "    plt.xlabel('Predicted label\\naccuracy={:0.4f}; misclass={:0.4f}'.format(accuracy, misclass))\n",
        "    plt.show()"
      ],
      "metadata": {
        "id": "r3cxSDWSOjO2"
      },
      "execution_count": null,
      "outputs": []
    },
    {
      "cell_type": "code",
      "source": [
        "cm = confusion_matrix(y_test, y_pred)\n",
        "plot_confusion_matrix(cm)"
      ],
      "metadata": {
        "colab": {
          "base_uri": "https://localhost:8080/",
          "height": 467
        },
        "id": "mLRWX3YsQm8K",
        "outputId": "8eccf765-bf0d-4bbe-e29b-89631890683a"
      },
      "execution_count": null,
      "outputs": [
        {
          "output_type": "display_data",
          "data": {
            "text/plain": [
              "<Figure size 576x432 with 2 Axes>"
            ],
            "image/png": "[encoded data removed]"
          },
          "metadata": {
            "needs_background": "light"
          }
        }
      ]
    },
    {
      "cell_type": "code",
      "source": [
        "FP = cm.sum(axis=0) - np.diag(cm)  \n",
        "FN = cm.sum(axis=1) - np.diag(cm)\n",
        "TP = np.diag(cm)\n",
        "TN = cm.sum() - (FP + FN + TP)\n",
        "print(FP)\n",
        "print(FN)\n",
        "print(TP)\n",
        "print(TN)"
      ],
      "metadata": {
        "colab": {
          "base_uri": "https://localhost:8080/"
        },
        "id": "HXMKQ242hFSX",
        "outputId": "0755b9e1-cd8d-4f6c-8dfa-217ecb3bd1a0"
      },
      "execution_count": null,
      "outputs": [
        {
          "output_type": "stream",
          "name": "stdout",
          "text": [
            "[47 11  8]\n",
            "[11 18 37]\n",
            "[176  62  48]\n",
            "[118 261 259]\n"
          ]
        }
      ]
    },
    {
      "cell_type": "code",
      "source": [
        "np.diag(cm) "
      ],
      "metadata": {
        "colab": {
          "base_uri": "https://localhost:8080/"
        },
        "id": "ZUxAXD-Xh4Yb",
        "outputId": "77652c5f-4b44-4afc-dd55-c9b7cdefc90c"
      },
      "execution_count": null,
      "outputs": [
        {
          "output_type": "execute_result",
          "data": {
            "text/plain": [
              "array([176,  62,  48])"
            ]
          },
          "metadata": {},
          "execution_count": 45
        }
      ]
    },
    {
      "cell_type": "code",
      "source": [
        "cm.sum(axis=0)"
      ],
      "metadata": {
        "id": "Vv7oyfxGiT7z",
        "outputId": "ad448626-6755-44a1-bc89-10dfdf8e5529",
        "colab": {
          "base_uri": "https://localhost:8080/"
        }
      },
      "execution_count": null,
      "outputs": [
        {
          "output_type": "execute_result",
          "data": {
            "text/plain": [
              "array([223,  73,  56])"
            ]
          },
          "metadata": {},
          "execution_count": 46
        }
      ]
    }
  ]
}